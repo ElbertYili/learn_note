{
 "cells": [
  {
   "cell_type": "code",
   "execution_count": 1,
   "metadata": {
    "collapsed": true
   },
   "outputs": [],
   "source": [
    "import pandas as pd"
   ]
  },
  {
   "cell_type": "code",
   "execution_count": 3,
   "metadata": {},
   "outputs": [],
   "source": [
    "train = pd.read_csv('/Users/elbert/Downloads/input/mnist/train.csv')\n",
    "test = pd.read_csv('/Users/elbert/Downloads/input/mnist/test.csv')"
   ]
  },
  {
   "cell_type": "code",
   "execution_count": 4,
   "metadata": {
    "collapsed": true
   },
   "outputs": [],
   "source": [
    "xTrain = train.ix[:, 1:].values.astype('float32')\n",
    "label = train.ix[:, 0].values.astype('int32')\n",
    "xTest = test.values.astype('float32')"
   ]
  },
  {
   "cell_type": "code",
   "execution_count": 5,
   "metadata": {},
   "outputs": [
    {
     "name": "stderr",
     "output_type": "stream",
     "text": [
      "Using TensorFlow backend.\n"
     ]
    }
   ],
   "source": [
    "from keras.utils import np_utils\n",
    "label = np_utils.to_categorical(label)"
   ]
  },
  {
   "cell_type": "code",
   "execution_count": 6,
   "metadata": {
    "collapsed": true
   },
   "outputs": [],
   "source": [
    "import numpy as np\n",
    "maxX = np.max(xTrain)\n",
    "xTrain /= maxX\n",
    "xTest /= maxX"
   ]
  },
  {
   "cell_type": "code",
   "execution_count": 7,
   "metadata": {
    "collapsed": true
   },
   "outputs": [],
   "source": [
    "mean = np.mean(xTrain)\n",
    "xTrain -= mean\n",
    "xTest -= mean"
   ]
  },
  {
   "cell_type": "code",
   "execution_count": 8,
   "metadata": {
    "collapsed": true
   },
   "outputs": [],
   "source": [
    "input_dim = xTrain.shape[1]\n",
    "nb_classes = label.shape[1]"
   ]
  },
  {
   "cell_type": "code",
   "execution_count": 11,
   "metadata": {},
   "outputs": [
    {
     "data": {
      "text/plain": [
       "784"
      ]
     },
     "execution_count": 11,
     "metadata": {},
     "output_type": "execute_result"
    }
   ],
   "source": [
    "input_dim"
   ]
  },
  {
   "cell_type": "code",
   "execution_count": 12,
   "metadata": {
    "collapsed": true
   },
   "outputs": [],
   "source": [
    "from keras.models import Sequential\n",
    "from keras.layers.core import Dropout, Dense, Activation"
   ]
  },
  {
   "cell_type": "code",
   "execution_count": 25,
   "metadata": {
    "collapsed": true
   },
   "outputs": [],
   "source": [
    "model = Sequential()\n",
    "model.add(Dense(256, input_dim=input_dim))\n",
    "model.add(Activation('relu'))\n",
    "model.add(Dense(128))\n",
    "model.add(Activation('relu'))\n",
    "model.add(Dropout(0.15))\n",
    "model.add(Dense(nb_classes))\n",
    "model.add(Activation('softmax'))"
   ]
  },
  {
   "cell_type": "code",
   "execution_count": 26,
   "metadata": {
    "collapsed": true
   },
   "outputs": [],
   "source": [
    "model.compile(loss='categorical_crossentropy', optimizer='rmsprop')"
   ]
  },
  {
   "cell_type": "code",
   "execution_count": 28,
   "metadata": {},
   "outputs": [
    {
     "name": "stdout",
     "output_type": "stream",
     "text": [
      "Train on 41160 samples, validate on 840 samples\n",
      "Epoch 1/15\n",
      "2s - loss: 0.0240 - val_loss: 0.1728\n",
      "Epoch 2/15\n",
      "2s - loss: 0.0194 - val_loss: 0.1948\n",
      "Epoch 3/15\n",
      "2s - loss: 0.0171 - val_loss: 0.2025\n",
      "Epoch 4/15\n",
      "2s - loss: 0.0156 - val_loss: 0.1691\n",
      "Epoch 5/15\n",
      "2s - loss: 0.0154 - val_loss: 0.2163\n",
      "Epoch 6/15\n",
      "2s - loss: 0.0118 - val_loss: 0.2286\n",
      "Epoch 7/15\n",
      "2s - loss: 0.0125 - val_loss: 0.1900\n",
      "Epoch 8/15\n",
      "2s - loss: 0.0131 - val_loss: 0.1904\n",
      "Epoch 9/15\n",
      "2s - loss: 0.0123 - val_loss: 0.2117\n",
      "Epoch 10/15\n",
      "2s - loss: 0.0115 - val_loss: 0.2066\n",
      "Epoch 11/15\n",
      "2s - loss: 0.0116 - val_loss: 0.2501\n",
      "Epoch 12/15\n",
      "2s - loss: 0.0103 - val_loss: 0.1806\n",
      "Epoch 13/15\n",
      "2s - loss: 0.0106 - val_loss: 0.2131\n",
      "Epoch 14/15\n",
      "2s - loss: 0.0094 - val_loss: 0.1967\n",
      "Epoch 15/15\n",
      "2s - loss: 0.0101 - val_loss: 0.2485\n"
     ]
    },
    {
     "data": {
      "text/plain": [
       "<keras.callbacks.History at 0x1135d84e0>"
      ]
     },
     "execution_count": 28,
     "metadata": {},
     "output_type": "execute_result"
    }
   ],
   "source": [
    "model.fit(xTrain, label, epochs=15, batch_size=64, validation_split=0.02, verbose=2)"
   ]
  },
  {
   "cell_type": "code",
   "execution_count": 29,
   "metadata": {
    "collapsed": true
   },
   "outputs": [],
   "source": [
    "preds = model.predict_classes(xTest, verbose=0)"
   ]
  },
  {
   "cell_type": "code",
   "execution_count": 30,
   "metadata": {
    "collapsed": true
   },
   "outputs": [],
   "source": [
    "submissions = pd.DataFrame({\"ImageId\": list(range(1,len(preds)+1)),\n",
    "                         \"Label\": preds})"
   ]
  },
  {
   "cell_type": "code",
   "execution_count": 31,
   "metadata": {
    "collapsed": true
   },
   "outputs": [],
   "source": [
    "submissions.to_csv(\"DR.csv\", index=False, header=True)"
   ]
  },
  {
   "cell_type": "code",
   "execution_count": null,
   "metadata": {
    "collapsed": true
   },
   "outputs": [],
   "source": []
  }
 ],
 "metadata": {
  "kernelspec": {
   "display_name": "Python 3",
   "language": "python",
   "name": "python3"
  },
  "language_info": {
   "codemirror_mode": {
    "name": "ipython",
    "version": 3
   },
   "file_extension": ".py",
   "mimetype": "text/x-python",
   "name": "python",
   "nbconvert_exporter": "python",
   "pygments_lexer": "ipython3",
   "version": "3.5.3"
  }
 },
 "nbformat": 4,
 "nbformat_minor": 2
}
