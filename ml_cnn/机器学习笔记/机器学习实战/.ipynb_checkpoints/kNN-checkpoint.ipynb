{
 "cells": [
  {
   "cell_type": "code",
   "execution_count": null,
   "metadata": {
    "collapsed": false
   },
   "outputs": [],
   "source": [
    "from numpy import *\n",
    "import operator\n",
    "import matplotlib\n",
    "import matplotlib.pyplot as plt\n",
    "from os import listdir\n",
    "\n",
    "def createDataSet():\n",
    "    group = array([[1.0,1.1], [1.0, 1.0], [0, 0], [0, 0.1]])\n",
    "    label = ['A', 'A', 'B', 'B']\n",
    "    return group, label\n",
    "\n",
    "def classify0(inX, dataSet, labels, k):\n",
    "    dataSetSize = dataSet.shape[0]\n",
    "    diffMat = tile(inX, (dataSetSize,1)) - dataSet\n",
    "    sqDiffMat = diffMat**2\n",
    "    sqDistances = sqDiffMat.sum(axis=1)\n",
    "    distances = sqDistances**0.5\n",
    "    sortedDistIndicies = distances.argsort()     \n",
    "    classCount={}          \n",
    "    for i in range(k):\n",
    "        voteIlabel = labels[sortedDistIndicies[i]]\n",
    "        classCount[voteIlabel] = classCount.get(voteIlabel,0) + 1\n",
    "    sortedClassCount = sorted(classCount.iteritems(), key=operator.itemgetter(1), reverse=True)\n",
    "    return sortedClassCount[0][0]\n",
    "\n",
    "group, labels = createDataSet()\n",
    "classify0([0, 1], group, labels, 2)"
   ]
  },
  {
   "cell_type": "code",
   "execution_count": null,
   "metadata": {
    "collapsed": false
   },
   "outputs": [],
   "source": [
    "def file2matrix(filename):\n",
    "    fr = open(filename)\n",
    "    numberOfLines = len(fr.readlines())         #get the number of lines in the file\n",
    "    returnMat = zeros((numberOfLines,3))        #prepare matrix to return\n",
    "    classLabelVector = []                       #prepare labels return   \n",
    "    fr = open(filename)\n",
    "    index = 0\n",
    "    for line in fr.readlines():\n",
    "        line = line.strip()\n",
    "        listFromLine = line.split('\\t')\n",
    "        returnMat[index,:] = listFromLine[0:3]\n",
    "        classLabelVector.append(int(listFromLine[-1]))\n",
    "        index += 1\n",
    "    return returnMat,classLabelVector\n",
    "\n",
    "mat,datinglabel=file2matrix('datingTestSet2.txt')\n",
    "mat"
   ]
  },
  {
   "cell_type": "markdown",
   "metadata": {},
   "source": [
    "### 使用matplotlib"
   ]
  },
  {
   "cell_type": "code",
   "execution_count": null,
   "metadata": {
    "collapsed": false
   },
   "outputs": [],
   "source": [
    "#fig = plt.figure()\n",
    "#ax = fig.add_subplot(111)\n",
    "#ax.scatter(mat[:,1], mat[:,2], 15.0*array(datinglabel), 15.0*array(datinglabel))\n",
    "#ax.axis([-2,25,-0.2,2.0])\n",
    "#plt.xlabel('Percentage of Time Spent Playing Video Games')\n",
    "#plt.ylabel('Liters of Ice Cream Consumed Per Week')\n",
    "#plt.show()"
   ]
  },
  {
   "cell_type": "code",
   "execution_count": null,
   "metadata": {
    "collapsed": false
   },
   "outputs": [],
   "source": [
    "mat"
   ]
  },
  {
   "cell_type": "code",
   "execution_count": null,
   "metadata": {
    "collapsed": false,
    "scrolled": true
   },
   "outputs": [],
   "source": [
    "def img2vector(filename) :\n",
    "    returnVect = zeros((1, 1024))\n",
    "    fr = open(filename)\n",
    "    for i in range(32) :\n",
    "        lineStr = fr.readline()\n",
    "        for j in range(32) :\n",
    "            returnVect[0, 32*i+j] = int(lineStr[j])\n",
    "    return returnVect\n",
    "\n",
    "testVector = img2vector('testDigits/0_13.txt')\n",
    "testVector[0, 32:63]\n"
   ]
  },
  {
   "cell_type": "code",
   "execution_count": null,
   "metadata": {
    "collapsed": false
   },
   "outputs": [],
   "source": [
    "hwLabels = []\n",
    "trainingFileList = listdir('trainingDigits')\n",
    "m = len(trainingFileList)\n",
    "trainingMat = zeros((m, 1024))\n",
    "for i in range(m):\n",
    "    fileNameStr = trainingFileList[i]\n",
    "    fileStr = fileNameStr.split('.')[0]\n",
    "    classNumStr = int(fileStr.split('_')[0])\n",
    "    hwLabels.append(classNumStr)\n",
    "    trainingMat[i,:] = img2vector('trainingDigits/%s' % fileNameStr)\n",
    "    \n",
    "testFileList = listdir('testDigits')\n",
    "errorCount = 0.0\n",
    "mTest = len(testFileList)\n",
    "for i in range(mTest):\n",
    "    fileNameStr = testFileList[i]\n",
    "    fileStr = fileNameStr.split('.')[0]\n",
    "    classNumStr = int(fileStr.split('_')[0])\n",
    "    vectorUnderTest = img2vector('testDigits/%s' % fileNameStr)\n",
    "    classifierResult = classify0(vectorUnderTest, \\\n",
    "                                 trainingMat, hwLabels, 3)\n",
    "    print \"the classifier came back with: %d, the real answer is : %d\"\\\n",
    "    % (classifierResult, classNumStr)\n",
    "    if (classifierResult != classNumStr): errorCount+=1.0\n",
    "        \n",
    "print errorCount"
   ]
  },
  {
   "cell_type": "code",
   "execution_count": null,
   "metadata": {
    "collapsed": false
   },
   "outputs": [],
   "source": []
  }
 ],
 "metadata": {
  "kernelspec": {
   "display_name": "Python 2",
   "language": "python",
   "name": "python2"
  },
  "language_info": {
   "codemirror_mode": {
    "name": "ipython",
    "version": 2
   },
   "file_extension": ".py",
   "mimetype": "text/x-python",
   "name": "python",
   "nbconvert_exporter": "python",
   "pygments_lexer": "ipython2",
   "version": "2.7.10"
  }
 },
 "nbformat": 4,
 "nbformat_minor": 1
}
