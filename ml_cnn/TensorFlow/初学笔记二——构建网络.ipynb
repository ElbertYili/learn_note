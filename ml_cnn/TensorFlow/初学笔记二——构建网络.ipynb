{
 "cells": [
  {
   "cell_type": "markdown",
   "metadata": {},
   "source": [
    "## 构建一个基本的神经网络"
   ]
  },
  {
   "cell_type": "code",
   "execution_count": 44,
   "metadata": {
    "collapsed": false
   },
   "outputs": [
    {
     "name": "stdout",
     "output_type": "stream",
     "text": [
      "Populating the interactive namespace from numpy and matplotlib\n"
     ]
    }
   ],
   "source": [
    "import tensorflow as tf\n",
    "import numpy as np\n",
    "import matplotlib.pyplot as plt\n",
    "\n",
    "%matplotlib inline"
   ]
  },
  {
   "cell_type": "markdown",
   "metadata": {},
   "source": [
    "##### 添加Layer， 构造一个创建神经层的方法\n",
    "    神经层里常见的参数通常有weights、biases和激励函数。"
   ]
  },
  {
   "cell_type": "code",
   "execution_count": 19,
   "metadata": {
    "collapsed": true
   },
   "outputs": [],
   "source": [
    "# 定义一个添加神经层的方法\n",
    "def add_layer(inputs, in_size, out_size, activation_func=None):\n",
    "    # 随机变量(normal distribution)会比全部为0要好很多\n",
    "    ws = tf.Variable(tf.random_normal([in_size, out_size]))\n",
    "    # biases的推荐值不为0\n",
    "    # 这个初始化biases的时候，只是TF初始化需要[1, out_size]\n",
    "    # 实际按照矩阵乘法应该[out_size， 1]\n",
    "    bs = tf.Variable(tf.zeros([1, out_size]) + 0.1)\n",
    "    wx_b = tf.matmul(inputs, ws) + bs\n",
    "    if activation_func is None:\n",
    "        outputs = wx_b\n",
    "    else:\n",
    "        outputs = activation_func(wx_b)\n",
    "    return outputs"
   ]
  },
  {
   "cell_type": "markdown",
   "metadata": {},
   "source": [
    "初始化一些数据"
   ]
  },
  {
   "cell_type": "code",
   "execution_count": 12,
   "metadata": {
    "collapsed": true
   },
   "outputs": [],
   "source": [
    "# 300行，范围-1到1\n",
    "x_data = np.linspace(-1, 1, 300)[:, np.newaxis]\n",
    "noise = np.random.normal(0, 0.05, x_data.shape)\n",
    "y_data = np.square(x_data) - 0.5 + noise"
   ]
  },
  {
   "cell_type": "markdown",
   "metadata": {},
   "source": [
    "    输入层：神经元跟输入一致\n",
    "    隐藏层\n",
    "    输出层："
   ]
  },
  {
   "cell_type": "code",
   "execution_count": 54,
   "metadata": {
    "collapsed": false
   },
   "outputs": [
    {
     "data": {
      "image/png": "[encoded data removed]",
      "text/plain": [
       "<matplotlib.figure.Figure at 0x11e5d27d0>"
      ]
     },
     "metadata": {},
     "output_type": "display_data"
    },
    {
     "name": "stdout",
     "output_type": "stream",
     "text": [
      "0.228447\n",
      "0.068442\n",
      "0.0293249\n",
      "0.0143735\n",
      "0.00840988\n",
      "0.00577109\n",
      "0.00531206\n",
      "0.00506752\n",
      "0.00477527\n",
      "0.00440799\n",
      "0.00407472\n",
      "0.00378293\n",
      "0.00355339\n",
      "0.00336985\n",
      "0.00322214\n",
      "0.00311871\n",
      "0.00306293\n",
      "0.00302768\n",
      "0.00298628\n",
      "0.00295392\n"
     ]
    }
   ],
   "source": [
    "xs = tf.placeholder(tf.float32, [None, 1])\n",
    "ys = tf.placeholder(tf.float32, [None, 1])\n",
    "\n",
    "l1 = add_layer(xs, 1, 10, activation_func=tf.nn.relu)\n",
    "prediction = add_layer(l1, 10, 1)\n",
    "\n",
    "loss = tf.reduce_mean(tf.reduce_sum(\n",
    "    tf.square(ys - prediction), reduction_indices=[1]))\n",
    "\n",
    "train_step = tf.train.GradientDescentOptimizer(0.1).minimize(loss)\n",
    "init = tf.initialize_all_variables()\n",
    "\n",
    "with tf.Session() as sess:\n",
    "    sess.run(init)\n",
    "    fig = plt.figure()\n",
    "    ax = fig.add_subplot(1, 1, 1)\n",
    "    ax.scatter(x_data, y_data)\n",
    "    plt.ion()\n",
    "    plt.show()\n",
    "    for i in range(1000):\n",
    "        sess.run(train_step, feed_dict={xs: x_data, ys:y_data})\n",
    "        if i % 50 == 0:\n",
    "            print(sess.run(loss, feed_dict={xs: x_data, ys:y_data}))\n",
    "            try:\n",
    "                ax.lines.remove(lines[0])\n",
    "            except Exception:\n",
    "                pass\n",
    "            prediction_value = sess.run(prediction, feed_dict={xs: x_data, ys:y_data})\n",
    "            lines = ax.plot(x_data, prediction_value, 'r-', lw=2)\n",
    "            plt.pause(0.1)"
   ]
  }
 ],
 "metadata": {
  "kernelspec": {
   "display_name": "Python 2",
   "language": "python",
   "name": "python2"
  },
  "language_info": {
   "codemirror_mode": {
    "name": "ipython",
    "version": 2
   },
   "file_extension": ".py",
   "mimetype": "text/x-python",
   "name": "python",
   "nbconvert_exporter": "python",
   "pygments_lexer": "ipython2",
   "version": "2.7.13"
  }
 },
 "nbformat": 4,
 "nbformat_minor": 2
}
