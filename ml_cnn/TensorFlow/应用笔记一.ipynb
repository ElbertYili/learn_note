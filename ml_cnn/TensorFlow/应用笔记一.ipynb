{
 "cells": [
  {
   "cell_type": "markdown",
   "metadata": {},
   "source": [
    "## Neural Style\n",
    "    使用TensorFlow CNN方法，对艺术照片做Neural Style工作\n",
    "    \n",
    "* 多层网络的实质就是找出更复杂、更内在的Feature\n",
    "\n",
    "![](http://images.duanshishi.com/mac_blogs_neural_style_workflow.png)"
   ]
  },
  {
   "cell_type": "markdown",
   "metadata": {},
   "source": [
    "1. Content Reconstruction:\n",
    "2. Style Reconstruction:\n"
   ]
  }
 ],
 "metadata": {
  "kernelspec": {
   "display_name": "Python 2",
   "language": "python",
   "name": "python2"
  },
  "language_info": {
   "codemirror_mode": {
    "name": "ipython",
    "version": 2
   },
   "file_extension": ".py",
   "mimetype": "text/x-python",
   "name": "python",
   "nbconvert_exporter": "python",
   "pygments_lexer": "ipython2",
   "version": "2.7.13"
  }
 },
 "nbformat": 4,
 "nbformat_minor": 2
}
