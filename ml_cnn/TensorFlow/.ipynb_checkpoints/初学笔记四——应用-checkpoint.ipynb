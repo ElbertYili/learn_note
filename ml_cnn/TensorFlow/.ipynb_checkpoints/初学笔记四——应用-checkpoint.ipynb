{
 "cells": [
  {
   "cell_type": "markdown",
   "metadata": {},
   "source": [
    "## 分类\n",
    "### MINIST\n",
    "    激励函数：Softmax"
   ]
  },
  {
   "cell_type": "markdown",
   "metadata": {},
   "source": [
    "#### 供给数据\n",
    "   * TensorFlow  可以直接通过Session的run和eval函数feed_dict参数，启动运算时传入参数\n",
    "   * 文件中读取\n",
    "   * 预加载数据\n",
    "   * 多管闲输入"
   ]
  },
  {
   "cell_type": "code",
   "execution_count": 10,
   "metadata": {
    "collapsed": true
   },
   "outputs": [],
   "source": [
    "import tensorflow as tf\n",
    "import numpy as np\n",
    "import matplotlib.pyplot as plt\n",
    "\n",
    "%matplotlib inline"
   ]
  },
  {
   "cell_type": "code",
   "execution_count": 4,
   "metadata": {
    "collapsed": false
   },
   "outputs": [
    {
     "name": "stdout",
     "output_type": "stream",
     "text": [
      "Hello, World!\n"
     ]
    }
   ],
   "source": [
    "# Hello World\n",
    "hello = tf.constant('Hello, World!')\n",
    "with tf.Session() as sess:\n",
    "    print sess.run(hello)"
   ]
  },
  {
   "cell_type": "code",
   "execution_count": 7,
   "metadata": {
    "collapsed": false
   },
   "outputs": [
    {
     "name": "stdout",
     "output_type": "stream",
     "text": [
      "5\n",
      "12\n"
     ]
    }
   ],
   "source": [
    "a = tf.placeholder(tf.int16)\n",
    "b = tf.placeholder(tf.int16)\n",
    "add = tf.add(a, b)\n",
    "mul = tf.mul(a, b)\n",
    "with tf.Session() as sess:\n",
    "    print sess.run(add, feed_dict={a : 2, b : 3})\n",
    "    print sess.run(mul, feed_dict={a : 4, b : 3})"
   ]
  },
  {
   "cell_type": "code",
   "execution_count": 23,
   "metadata": {
    "collapsed": false
   },
   "outputs": [
    {
     "name": "stdout",
     "output_type": "stream",
     "text": [
      "<type 'module'>\n",
      "17\n",
      "Epoch: 0001 cost= 0.137703463 W= 0.351947 b= -0.0837049\n",
      "Epoch: 0051 cost= 0.096857980 W= 0.297421 b= 0.345177\n",
      "Epoch: 0101 cost= 0.085945621 W= 0.26773 b= 0.569652\n",
      "Epoch: 0151 cost= 0.082781799 W= 0.252177 b= 0.687239\n",
      "Epoch: 0201 cost= 0.081824839 W= 0.24403 b= 0.748835\n",
      "Epoch: 0251 cost= 0.081515729 W= 0.239762 b= 0.781101\n",
      "Epoch: 0301 cost= 0.081406549 W= 0.237526 b= 0.798003\n",
      "Epoch: 0351 cost= 0.081363857 W= 0.236355 b= 0.806857\n",
      "Epoch: 0401 cost= 0.081345409 W= 0.235742 b= 0.811494\n",
      "Epoch: 0451 cost= 0.081336863 W= 0.235421 b= 0.813923\n",
      "Epoch: 0501 cost= 0.081332684 W= 0.235252 b= 0.815196\n",
      "Epoch: 0551 cost= 0.081330590 W= 0.235164 b= 0.815863\n",
      "Epoch: 0601 cost= 0.081329480 W= 0.235118 b= 0.816212\n",
      "Epoch: 0651 cost= 0.081328928 W= 0.235094 b= 0.816396\n",
      "Epoch: 0701 cost= 0.081328638 W= 0.235081 b= 0.816493\n",
      "Epoch: 0751 cost= 0.081328489 W= 0.235074 b= 0.81654\n",
      "Epoch: 0801 cost= 0.081328407 W= 0.235071 b= 0.816566\n",
      "Epoch: 0851 cost= 0.081328385 W= 0.235069 b= 0.816581\n",
      "Epoch: 0901 cost= 0.081328362 W= 0.235068 b= 0.816586\n",
      "Epoch: 0951 cost= 0.081328355 W= 0.235068 b= 0.81659\n",
      "Optimization Finished!\n",
      "cost= 0.0813284 W= 0.235068 b= 0.81659\n"
     ]
    },
    {
     "data": {
      "image/png": "[encoded data removed]",
      "text/plain": [
       "<matplotlib.figure.Figure at 0x1127bced0>"
      ]
     },
     "metadata": {},
     "output_type": "display_data"
    }
   ],
   "source": [
    "rng = np.random\n",
    "print type(rng)\n",
    "\n",
    "learning_rate = 0.1\n",
    "training_epochs = 1000\n",
    "display_step = 50\n",
    "\n",
    "train_X = np.asarray([3.3,4.4,5.5,6.71,6.93,4.168,9.779,6.182,7.59,2.167,7.042,10.791,5.313,7.997,5.654,9.27,3.1])\n",
    "train_Y = np.asarray([1.7,2.76,2.09,3.19,1.694,1.573,3.366,2.596,2.53,1.221,2.827,3.465,1.65,2.904,2.42,2.94,1.3])\n",
    "\n",
    "n_samples = train_X.shape[0]\n",
    "print n_samples\n",
    "\n",
    "x = tf.placeholder(tf.float32)\n",
    "y = tf.placeholder(tf.float32)\n",
    "\n",
    "w = tf.Variable(rng.randn(), name = \"weight\")\n",
    "b = tf.Variable(rng.randn(), name = \"bias\")\n",
    "\n",
    "activation = tf.add(tf.mul(w, x), b)\n",
    "\n",
    "cost = tf.reduce_sum(tf.pow(activation - y, 2)) / (2 * n_samples)\n",
    "optimizer = tf.train.GradientDescentOptimizer(learning_rate).minimize(cost)\n",
    "\n",
    "init = tf.initialize_all_variables()\n",
    "\n",
    "with tf.Session() as sess:\n",
    "    sess.run(init)\n",
    "    \n",
    "    for epoch in range(training_epochs):\n",
    "        for (m, n) in zip(train_X, train_Y):\n",
    "            sess.run(optimizer, feed_dict={x : m, y : n})\n",
    "            \n",
    "        if epoch % display_step == 0:\n",
    "            print \"Epoch:\", '%04d' % (epoch+1), \"cost=\", \\\n",
    "                \"{:.9f}\".format(sess.run(cost, feed_dict={x: train_X, y:train_Y})), \\\n",
    "                \"W=\", sess.run(w), \"b=\", sess.run(b)\n",
    "    print \"Optimization Finished!\"\n",
    "    print \"cost=\", sess.run(cost, feed_dict={x: train_X, y: train_Y}), \\\n",
    "          \"W=\", sess.run(w), \"b=\", sess.run(b)\n",
    "        \n",
    "    #Graphic display\n",
    "    plt.plot(train_X, train_Y, 'ro', label='Original data')\n",
    "    plt.plot(train_X, sess.run(w) * train_X + sess.run(b), label='Fitted line')\n",
    "    plt.legend()\n",
    "    plt.show()"
   ]
  }
 ],
 "metadata": {
  "kernelspec": {
   "display_name": "Python 2",
   "language": "python",
   "name": "python2"
  },
  "language_info": {
   "codemirror_mode": {
    "name": "ipython",
    "version": 2
   },
   "file_extension": ".py",
   "mimetype": "text/x-python",
   "name": "python",
   "nbconvert_exporter": "python",
   "pygments_lexer": "ipython2",
   "version": "2.7.13"
  }
 },
 "nbformat": 4,
 "nbformat_minor": 2
}
