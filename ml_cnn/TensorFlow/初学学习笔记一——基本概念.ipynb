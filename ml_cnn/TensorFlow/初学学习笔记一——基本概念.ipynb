{
 "cells": [
  {
   "cell_type": "markdown",
   "metadata": {},
   "source": [
    "### 基本结构\n",
    "\n",
    "    首先定义神经网络的结构（节点），然后数据填充进结构中运算和training\n",
    "   使用data Flow graphs来计算。\n",
    "    数据以**tensor**的形式存在,float32格式比64位的快很多"
   ]
  },
  {
   "cell_type": "code",
   "execution_count": 1,
   "metadata": {
    "collapsed": true
   },
   "outputs": [],
   "source": [
    "import tensorflow as tf"
   ]
  },
  {
   "cell_type": "markdown",
   "metadata": {},
   "source": [
    "##### Session\n",
    "    Session是TensorFlow控制和输出文件的执行者\n",
    "    通过session.run()可以进行运算"
   ]
  },
  {
   "cell_type": "code",
   "execution_count": null,
   "metadata": {
    "collapsed": false
   },
   "outputs": [],
   "source": [
    "# method 1\n",
    "sess = tf.Session()\n",
    "result = sess.run(product)\n",
    "print(result)\n",
    "sess.close()\n",
    "# [[12]]\n",
    "\n",
    "# method 2\n",
    "with tf.Session() as sess:\n",
    "    result2 = sess.run(product)\n",
    "    print(result2)\n",
    "# [[12]]"
   ]
  },
  {
   "cell_type": "markdown",
   "metadata": {},
   "source": [
    "##### Variable\n",
    "    必须定义成变量才是Variable\n",
    "    一定要初始化\n",
    "    "
   ]
  },
  {
   "cell_type": "code",
   "execution_count": 15,
   "metadata": {
    "collapsed": false
   },
   "outputs": [
    {
     "name": "stdout",
     "output_type": "stream",
     "text": [
      "1\n",
      "2\n",
      "3\n",
      "counter_12:0\n",
      "Tensor(\"Add_7:0\", shape=(), dtype=int32)\n",
      "<tensorflow.python.ops.variables.Variable object at 0x118019cd0>\n",
      "Tensor(\"Assign_7:0\", shape=(), dtype=int32_ref)\n"
     ]
    }
   ],
   "source": [
    "# counter是个名字标签\n",
    "state = tf.Variable(0, name='counter')\n",
    "# 定义一个常量\n",
    "one = tf.constant(1)\n",
    "\n",
    "# 做一个加法运算\n",
    "new = tf.add(state, one)\n",
    "# 将new的值更新到state上,否则state的值在add\n",
    "# 之后并不会变更\n",
    "update = tf.assign(state, new)\n",
    "\n",
    "# 定义了变量就一定要初始化才能用\n",
    "init = tf.initialize_all_variables()\n",
    "\n",
    "with tf.Session() as sess:\n",
    "    sess.run(init)\n",
    "    for _ in range(3):\n",
    "        sess.run(update)\n",
    "        #这样就会调用到new的节点运算，猜测根据图结构，完成\n",
    "        print(sess.run(state))\n",
    "\n",
    "print state.name\n",
    "print new\n",
    "print state\n",
    "print update"
   ]
  },
  {
   "cell_type": "markdown",
   "metadata": {},
   "source": [
    "##### Placeholder\n",
    "   Tensorflow中的占位符,一个大特点就是**不用初始化操作**\n",
    "   外部传入data时，以这种形式传输数据 sess.run(***, feed_dict={input: **})"
   ]
  },
  {
   "cell_type": "code",
   "execution_count": 20,
   "metadata": {
    "collapsed": false
   },
   "outputs": [
    {
     "name": "stdout",
     "output_type": "stream",
     "text": [
      "[ 4.20000029]\n"
     ]
    }
   ],
   "source": [
    "input1 = tf.placeholder(tf.float32)\n",
    "input2 = tf.placeholder(tf.float32)\n",
    "\n",
    "output = tf.mul(input1, input2)\n",
    "\n",
    "with tf.Session() as sess:\n",
    "    print(sess.run(output, feed_dict={input1:[7.], input2:[.6]}))"
   ]
  },
  {
   "cell_type": "markdown",
   "metadata": {},
   "source": [
    "##### 激励函数\n",
    "    在Tensorflow中激励函数一般在隐藏层中\n",
    "    Tensorflow内置了很多激励函数"
   ]
  },
  {
   "cell_type": "code",
   "execution_count": 22,
   "metadata": {
    "collapsed": false
   },
   "outputs": [
    {
     "data": {
      "text/plain": [
       "<function tensorflow.python.ops.math_ops.sigmoid>"
      ]
     },
     "execution_count": 22,
     "metadata": {},
     "output_type": "execute_result"
    }
   ],
   "source": [
    "tf.nn.sigmoid"
   ]
  },
  {
   "cell_type": "markdown",
   "metadata": {},
   "source": [
    "##### 优化器——Optimizer\n",
    "    Tensorflow常用Optimizer\n",
    "![常用的几种](https://morvanzhou.github.io/static/results/tensorflow/3_4_1.png)"
   ]
  },
  {
   "cell_type": "markdown",
   "metadata": {},
   "source": [
    "##### 过拟合"
   ]
  }
 ],
 "metadata": {
  "kernelspec": {
   "display_name": "Python 2",
   "language": "python",
   "name": "python2"
  },
  "language_info": {
   "codemirror_mode": {
    "name": "ipython",
    "version": 2
   },
   "file_extension": ".py",
   "mimetype": "text/x-python",
   "name": "python",
   "nbconvert_exporter": "python",
   "pygments_lexer": "ipython2",
   "version": "2.7.13"
  }
 },
 "nbformat": 4,
 "nbformat_minor": 2
}
